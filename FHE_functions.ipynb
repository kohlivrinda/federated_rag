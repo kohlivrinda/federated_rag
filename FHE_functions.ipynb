{
 "cells": [
  {
   "cell_type": "code",
   "execution_count": 1,
   "metadata": {},
   "outputs": [
    {
     "name": "stdout",
     "output_type": "stream",
     "text": [
      "Requirement already satisfied: tenseal in ./.venv/lib/python3.10/site-packages (0.3.15)\n",
      "Note: you may need to restart the kernel to use updated packages.\n"
     ]
    }
   ],
   "source": [
    "pip install tenseal"
   ]
  },
  {
   "cell_type": "code",
   "execution_count": null,
   "metadata": {},
   "outputs": [
    {
     "name": "stdout",
     "output_type": "stream",
     "text": [
      "The dot product of the two vectors is: [70.0000086304692]\n"
     ]
    }
   ],
   "source": [
    "import tenseal as ts\n",
    "\n",
    "# TenSEAL Context for key generation\n",
    "def create_context():\n",
    "    context = ts.context(ts.SCHEME_TYPE.CKKS, poly_modulus_degree=8192, coeff_mod_bit_sizes=[60, 40, 40, 60])\n",
    "    context.generate_galois_keys()\n",
    "    context.global_scale = 2**40\n",
    "    return context\n",
    "\n",
    "# Encryption\n",
    "def encrypt_data(data, context):\n",
    "    return ts.ckks_vector(context, data)\n",
    "\n",
    "# Function/Computation\n",
    "def encrypted_dot_product(vector1, vector2, context):\n",
    "    encrypted_vector1 = encrypt_data(vector1, context)\n",
    "    encrypted_vector2 = encrypt_data(vector2, context)\n",
    "    \n",
    "    # Perform the dot product\n",
    "    encrypted_result = encrypted_vector1.dot(encrypted_vector2)\n",
    "    \n",
    "    # Decryption\n",
    "    decrypted_result = encrypted_result.decrypt()\n",
    "    \n",
    "    return decrypted_result\n",
    "\n",
    "if __name__ == \"__main__\":\n",
    "    # For example\n",
    "    vector1 = [1, 2, 3, 4]\n",
    "    vector2 = [5, 6, 7, 8]\n",
    "    \n",
    "    # Create context\n",
    "    context = create_context()\n",
    "    \n",
    "    # Encrypted Computation\n",
    "    result = encrypted_dot_product(vector1, vector2, context)\n",
    "    \n",
    "    print(f\"The dot product of the two vectors is: {result}\")\n"
   ]
  }
 ],
 "metadata": {
  "kernelspec": {
   "display_name": ".venv",
   "language": "python",
   "name": "python3"
  },
  "language_info": {
   "codemirror_mode": {
    "name": "ipython",
    "version": 3
   },
   "file_extension": ".py",
   "mimetype": "text/x-python",
   "name": "python",
   "nbconvert_exporter": "python",
   "pygments_lexer": "ipython3",
   "version": "3.10.12"
  }
 },
 "nbformat": 4,
 "nbformat_minor": 2
}
