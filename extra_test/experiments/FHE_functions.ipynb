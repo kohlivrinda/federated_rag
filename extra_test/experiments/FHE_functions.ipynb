{
 "cells": [
  {
   "cell_type": "code",
   "execution_count": 1,
   "metadata": {},
   "outputs": [
    {
     "name": "stdout",
     "output_type": "stream",
     "text": [
      "Requirement already satisfied: tenseal in ./.venv/lib/python3.10/site-packages (0.3.15)\n",
      "Note: you may need to restart the kernel to use updated packages.\n"
     ]
    }
   ],
   "source": [
    "pip install tenseal"
   ]
  },
  {
   "cell_type": "markdown",
   "metadata": {},
   "source": [
    "Function 1"
   ]
  },
  {
   "cell_type": "code",
   "execution_count": 10,
   "metadata": {},
   "outputs": [
    {
     "name": "stdout",
     "output_type": "stream",
     "text": [
      "The dot product of the two vectors is: [70.00000943654098]\n"
     ]
    }
   ],
   "source": [
    "import tenseal as ts\n",
    "import json\n",
    "import numpy as np\n",
    "from pathlib import Path\n",
    "def create_context():   # TenSEAL Context for key generation\n",
    "    context = ts.context(ts.SCHEME_TYPE.CKKS, poly_modulus_degree=8192, coeff_mod_bit_sizes=[60, 40, 40, 60])\n",
    "    context.generate_galois_keys()\n",
    "    context.global_scale = 2**40\n",
    "    return context\n",
    "\n",
    "def encrypt_data(data, context):    # Encryption\n",
    "    return ts.ckks_vector(context, data)\n",
    "\n",
    "def encrypted_dot_product(vector1, vector2, context):   # Function/Computation\n",
    "    encrypted_vector1 = encrypt_data(vector1, context)\n",
    "    encrypted_vector2 = encrypt_data(vector2, context)                                                            \n",
    "    encrypted_result = encrypted_vector1.dot(encrypted_vector2) # Perform the dot product\n",
    "    \n",
    "    decrypted_result = encrypted_result.decrypt()   # Decryption\n",
    "    \n",
    "    return decrypted_result\n",
    "\n",
    "if __name__ == \"__main__\":\n",
    "    vector1 = [1, 2, 3, 4]  #example case\n",
    "    vector2 = [5, 6, 7, 8]\n",
    "    \n",
    "    context = create_context()  # Create context\n",
    "    \n",
    "    result = encrypted_dot_product(vector1, vector2, context)       # Encrypted Computation\n",
    "    \n",
    "    print(f\"The dot product of the two vectors is: {result}\")\n"
   ]
  },
  {
   "cell_type": "markdown",
   "metadata": {},
   "source": [
    "Function 2"
   ]
  },
  {
   "cell_type": "code",
   "execution_count": 11,
   "metadata": {},
   "outputs": [
    {
     "name": "stdout",
     "output_type": "stream",
     "text": [
      "Skipping embedding_dict: Value is not a valid list or array\n",
      "Skipping text_id_to_ref_doc_id: Value is not a valid list or array\n",
      "Skipping metadata_dict: Value is not a valid list or array\n",
      "Encrypted embeddings have been saved to test_group_scientists/a/public/vector_index/encrypted_vector_store.json\n"
     ]
    }
   ],
   "source": [
    "def create_context():\n",
    "    context = ts.context(ts.SCHEME_TYPE.CKKS, poly_modulus_degree=8192, coeff_mod_bit_sizes=[60, 40, 40, 60])\n",
    "    context.generate_galois_keys()\n",
    "    context.global_scale = 2**40\n",
    "    return context\n",
    "\n",
    "def read_embeddings(input_file: str):\n",
    "    with open(input_file, 'r') as file:\n",
    "        data = json.load(file)\n",
    "    return data\n",
    "\n",
    "# Function to encrypt the embeddings and store in a new JSON file\n",
    "def encrypt_and_store_embeddings(input_file: str, output_file: str):\n",
    "    context = create_context()\n",
    "    embeddings = read_embeddings(input_file)\n",
    "\n",
    "    encrypted_embeddings = {}   \n",
    "    for key, value in embeddings.items():\n",
    "        # Ensure value is a list or numpy array of floats\n",
    "        if isinstance(value, list):\n",
    "            # If it's a list, convert to numpy array for compatibility\n",
    "            value = np.array(value, dtype=float)\n",
    "        else:\n",
    "            print(f\"Skipping {key}: Value is not a valid list or array\")\n",
    "            continue\n",
    "\n",
    "        # Encrypt the value using CKKS\n",
    "        encrypted_value = ts.ckks_vector(context, value)\n",
    "        encrypted_embeddings[key] = encrypted_value.serialize()  # Serialize the encrypted vector\n",
    "\n",
    "    # Write the encrypted embeddings to the output JSON file\n",
    "    with open(output_file, 'w') as file:\n",
    "        json.dump(encrypted_embeddings, file)\n",
    "\n",
    "    print(f\"Encrypted embeddings have been saved to {output_file}\")\n",
    "\n",
    "# Example usage:\n",
    "if __name__ == \"__main__\":\n",
    "    input_path = 'test_group_scientists/a/public/vector_index/default__vector_store.json'  # Path to input vector store\n",
    "    output_path = 'test_group_scientists/a/public/vector_index/encrypted_vector_store.json'  # Path for storing encrypted embeddings\n",
    "    encrypt_and_store_embeddings(input_path, output_path)\n"
   ]
  },
  {
   "cell_type": "markdown",
   "metadata": {},
   "source": [
    "Function 3"
   ]
  },
  {
   "cell_type": "code",
   "execution_count": 8,
   "metadata": {},
   "outputs": [
    {
     "name": "stdout",
     "output_type": "stream",
     "text": [
      "Decrypted embeddings have been saved to test_group_scientists/a/public/vector_index/decrypted_vector_store.json\n"
     ]
    }
   ],
   "source": [
    "def create_context():\n",
    "    context = ts.context(ts.SCHEME_TYPE.CKKS, poly_modulus_degree=8192, coeff_mod_bit_sizes=[60, 40, 40, 60])\n",
    "    context.generate_galois_keys()\n",
    "    context.global_scale = 2**40\n",
    "    return context\n",
    "\n",
    "def decrypt_and_store_embeddings(input_file: str, output_file: str, context):\n",
    "    \"\"\"\n",
    "    Function to decrypt embeddings stored in a JSON file and save them to a new JSON file.\n",
    "    \"\"\"\n",
    "    # Read the encrypted embeddings from the input file\n",
    "    with open(input_file, 'r') as file:\n",
    "        encrypted_embeddings = json.load(file)\n",
    "\n",
    "    decrypted_embeddings = {}\n",
    "\n",
    "    # Decrypt each embedding\n",
    "    for key, encrypted_value in encrypted_embeddings.items():\n",
    "        # Deserialize the encrypted vector\n",
    "        encrypted_vector = ts.ckks_vector_from(serialized=encrypted_value, context=context)\n",
    "        decrypted_value = encrypted_vector.decrypt()  # Decrypt the vector\n",
    "\n",
    "        # Convert the decrypted value to a list and store it\n",
    "        decrypted_embeddings[key] = decrypted_value.tolist()\n",
    "\n",
    "    # Write the decrypted embeddings to the output JSON file\n",
    "    with open(output_file, 'w') as file:\n",
    "        json.dump(decrypted_embeddings, file)\n",
    "\n",
    "    print(f\"Decrypted embeddings have been saved to {output_file}\")\n",
    "\n",
    "# Example usage:\n",
    "if __name__ == \"__main__\":\n",
    "    input_path = 'test_group_scientists/a/public/vector_index/encrypted_vector_store.json'  # Path to input encrypted embeddings\n",
    "    output_path = 'test_group_scientists/a/public/vector_index/decrypted_vector_store.json'  # Path for storing decrypted embeddings\n",
    "\n",
    "    # Create context using the same parameters as used for encryption\n",
    "    context = create_context()\n",
    "\n",
    "    decrypt_and_store_embeddings(input_path, output_path, context)\n"
   ]
  }
 ],
 "metadata": {
  "kernelspec": {
   "display_name": ".venv",
   "language": "python",
   "name": "python3"
  },
  "language_info": {
   "codemirror_mode": {
    "name": "ipython",
    "version": 3
   },
   "file_extension": ".py",
   "mimetype": "text/x-python",
   "name": "python",
   "nbconvert_exporter": "python",
   "pygments_lexer": "ipython3",
   "version": "3.10.12"
  }
 },
 "nbformat": 4,
 "nbformat_minor": 2
}
